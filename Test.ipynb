{
 "cells": [
  {
   "cell_type": "code",
   "execution_count": 1,
   "id": "be04dd95",
   "metadata": {},
   "outputs": [
    {
     "name": "stdout",
     "output_type": "stream",
     "text": [
      "Collecting tk\n",
      "  Downloading tk-0.1.0-py3-none-any.whl (3.9 kB)\n",
      "Installing collected packages: tk\n",
      "Successfully installed tk-0.1.0\n",
      "Note: you may need to restart the kernel to use updated packages.\n"
     ]
    }
   ],
   "source": [
    "pip install tk"
   ]
  },
  {
   "cell_type": "code",
   "execution_count": 1,
   "id": "11966b6b",
   "metadata": {},
   "outputs": [
    {
     "name": "stdout",
     "output_type": "stream",
     "text": [
      "Requirement already satisfied: pyserial in c:\\users\\st169844\\anaconda3\\envs\\eive\\lib\\site-packages (3.4)\n",
      "Note: you may need to restart the kernel to use updated packages.\n"
     ]
    }
   ],
   "source": [
    "pip install pyserial"
   ]
  },
  {
   "cell_type": "code",
   "execution_count": 3,
   "id": "0ac99aa5",
   "metadata": {},
   "outputs": [],
   "source": [
    "import tkinter \n",
    "import serial\n",
    "from serial.tools import list_ports\n",
    "import time"
   ]
  },
  {
   "cell_type": "code",
   "execution_count": 4,
   "id": "8566c484",
   "metadata": {},
   "outputs": [
    {
     "name": "stdout",
     "output_type": "stream",
     "text": [
      "['COM3', 'COM4']\n"
     ]
    }
   ],
   "source": [
    "\n",
    "def listOfPorts():\n",
    "    list_of_ports = (list_ports.comports())\n",
    "    initial_list = []\n",
    "    for port in list_of_ports:\n",
    "        initial_list.extend(port)\n",
    "        # print(port)\n",
    "    # print(initial_list)\n",
    "\n",
    "    sub = \"COM\"\n",
    "    com_ports = []\n",
    "    for text in initial_list:\n",
    "        if sub in text:\n",
    "            com_ports.append(text)\n",
    "            # print(text)\n",
    "    # print(com_ports)\n",
    "\n",
    "    port_list = com_ports[0::2]\n",
    "    port_list.sort()\n",
    "    return port_list\n",
    "\n",
    "comports = listOfPorts()\n",
    "print(comports)"
   ]
  },
  {
   "cell_type": "code",
   "execution_count": 5,
   "id": "fbeda88b",
   "metadata": {},
   "outputs": [],
   "source": [
    "comports = ['COM4']"
   ]
  },
  {
   "cell_type": "code",
   "execution_count": 14,
   "id": "01b5f299",
   "metadata": {},
   "outputs": [
    {
     "name": "stdout",
     "output_type": "stream",
     "text": [
      "--------------------------------------\n",
      "Trying to connect serial port:  COM4\n",
      "Connected to the port:  COM4\n",
      "Open serial port\n",
      "Serial port opened successfully\n",
      "Message from the COM4 port is:  b'\\xff'\n",
      "The port COM4 is closed\n",
      "--------------------------------------\n"
     ]
    }
   ],
   "source": [
    "initialConnection(comports)"
   ]
  },
  {
   "cell_type": "code",
   "execution_count": 6,
   "id": "eb8fd268",
   "metadata": {},
   "outputs": [],
   "source": [
    "def initialConnection(comports):\n",
    "    for i in range(len(comports)):\n",
    "        ser = serial.Serial()\n",
    "        print(\"--------------------------------------\")\n",
    "        print(\"Trying to connect serial port: \", comports[i])\n",
    "        ser.port = comports[i]\n",
    "        ser.baudrate = 19200\n",
    "        ser.timeout = 1\n",
    "        ser.write_timeout = 10\n",
    "        ser.bytesize = 8\n",
    "        ser.stopbits = 1\n",
    "        ser.parity = serial.PARITY_NONE\n",
    "        ser.xonxoff = 0\n",
    "\n",
    "        print(\"Connected to the port: \", comports[i])\n",
    "        time.sleep(1)\n",
    "\n",
    "        try:\n",
    "            print(\"Open serial port\")\n",
    "            ser.open()\n",
    "            print(\"Serial port opened successfully\")\n",
    "        except:\n",
    "            print(\"An exception occurred:-----------> \")\n",
    "            print('traceback.format_exc():\\n{}'.format(traceback.format_exc()))\n",
    "            print(\"Closing serial port\")\n",
    "            ser.close()\n",
    "            print(\"Serial port \" + ser.portstr + \" closed\")\n",
    "            continue\n",
    "\n",
    "        time.sleep(0.005)\n",
    "        read = ser.readline()\n",
    "        print(\"Message from the \" + ser.portstr + \" port is: \", read)\n",
    "        ser.close()\n",
    "        print(\"The port \" + ser.portstr + \" is closed\")\n",
    "        print(\"--------------------------------------\")\n"
   ]
  },
  {
   "cell_type": "code",
   "execution_count": 8,
   "id": "9a6a2190",
   "metadata": {},
   "outputs": [
    {
     "name": "stdout",
     "output_type": "stream",
     "text": [
      "--------------------------------------\n",
      "Trying to connect serial port:  COM Port\n"
     ]
    },
    {
     "ename": "SerialException",
     "evalue": "could not open port 'COM6': FileNotFoundError(2, 'Das System kann die angegebene Datei nicht finden.', None, 2)",
     "output_type": "error",
     "traceback": [
      "\u001b[1;31m---------------------------------------------------------------------------\u001b[0m",
      "\u001b[1;31mSerialException\u001b[0m                           Traceback (most recent call last)",
      "\u001b[1;32m~\\AppData\\Local\\Temp/ipykernel_14420/2817555493.py\u001b[0m in \u001b[0;36m<module>\u001b[1;34m\u001b[0m\n\u001b[0;32m     12\u001b[0m \u001b[1;33m\u001b[0m\u001b[0m\n\u001b[0;32m     13\u001b[0m \u001b[0mtime\u001b[0m\u001b[1;33m.\u001b[0m\u001b[0msleep\u001b[0m\u001b[1;33m(\u001b[0m\u001b[1;36m1\u001b[0m\u001b[1;33m)\u001b[0m\u001b[1;33m\u001b[0m\u001b[1;33m\u001b[0m\u001b[0m\n\u001b[1;32m---> 14\u001b[1;33m \u001b[0mser\u001b[0m\u001b[1;33m.\u001b[0m\u001b[0mopen\u001b[0m\u001b[1;33m(\u001b[0m\u001b[1;33m)\u001b[0m\u001b[1;33m\u001b[0m\u001b[1;33m\u001b[0m\u001b[0m\n\u001b[0m\u001b[0;32m     15\u001b[0m \u001b[0mread\u001b[0m \u001b[1;33m=\u001b[0m \u001b[0mser\u001b[0m\u001b[1;33m.\u001b[0m\u001b[0mreadline\u001b[0m\u001b[1;33m(\u001b[0m\u001b[1;33m)\u001b[0m\u001b[1;33m\u001b[0m\u001b[1;33m\u001b[0m\u001b[0m\n\u001b[0;32m     16\u001b[0m \u001b[0mprint\u001b[0m\u001b[1;33m(\u001b[0m\u001b[1;34m\"Message from the \"\u001b[0m \u001b[1;33m+\u001b[0m \u001b[0mser\u001b[0m\u001b[1;33m.\u001b[0m\u001b[0mportstr\u001b[0m \u001b[1;33m+\u001b[0m \u001b[1;34m\" port is: \"\u001b[0m\u001b[1;33m,\u001b[0m \u001b[0mread\u001b[0m\u001b[1;33m)\u001b[0m\u001b[1;33m\u001b[0m\u001b[1;33m\u001b[0m\u001b[0m\n",
      "\u001b[1;32m~\\Anaconda3\\envs\\EIVE\\lib\\site-packages\\serial\\serialwin32.py\u001b[0m in \u001b[0;36mopen\u001b[1;34m(self)\u001b[0m\n\u001b[0;32m     60\u001b[0m         \u001b[1;32mif\u001b[0m \u001b[0mself\u001b[0m\u001b[1;33m.\u001b[0m\u001b[0m_port_handle\u001b[0m \u001b[1;33m==\u001b[0m \u001b[0mwin32\u001b[0m\u001b[1;33m.\u001b[0m\u001b[0mINVALID_HANDLE_VALUE\u001b[0m\u001b[1;33m:\u001b[0m\u001b[1;33m\u001b[0m\u001b[1;33m\u001b[0m\u001b[0m\n\u001b[0;32m     61\u001b[0m             \u001b[0mself\u001b[0m\u001b[1;33m.\u001b[0m\u001b[0m_port_handle\u001b[0m \u001b[1;33m=\u001b[0m \u001b[1;32mNone\u001b[0m    \u001b[1;31m# 'cause __del__ is called anyway\u001b[0m\u001b[1;33m\u001b[0m\u001b[1;33m\u001b[0m\u001b[0m\n\u001b[1;32m---> 62\u001b[1;33m             \u001b[1;32mraise\u001b[0m \u001b[0mSerialException\u001b[0m\u001b[1;33m(\u001b[0m\u001b[1;34m\"could not open port {!r}: {!r}\"\u001b[0m\u001b[1;33m.\u001b[0m\u001b[0mformat\u001b[0m\u001b[1;33m(\u001b[0m\u001b[0mself\u001b[0m\u001b[1;33m.\u001b[0m\u001b[0mportstr\u001b[0m\u001b[1;33m,\u001b[0m \u001b[0mctypes\u001b[0m\u001b[1;33m.\u001b[0m\u001b[0mWinError\u001b[0m\u001b[1;33m(\u001b[0m\u001b[1;33m)\u001b[0m\u001b[1;33m)\u001b[0m\u001b[1;33m)\u001b[0m\u001b[1;33m\u001b[0m\u001b[1;33m\u001b[0m\u001b[0m\n\u001b[0m\u001b[0;32m     63\u001b[0m \u001b[1;33m\u001b[0m\u001b[0m\n\u001b[0;32m     64\u001b[0m         \u001b[1;32mtry\u001b[0m\u001b[1;33m:\u001b[0m\u001b[1;33m\u001b[0m\u001b[1;33m\u001b[0m\u001b[0m\n",
      "\u001b[1;31mSerialException\u001b[0m: could not open port 'COM6': FileNotFoundError(2, 'Das System kann die angegebene Datei nicht finden.', None, 2)"
     ]
    }
   ],
   "source": [
    "ser = serial.Serial()\n",
    "print(\"--------------------------------------\")\n",
    "print(\"Trying to connect serial port: \", 'COM Port')\n",
    "ser.port = 'COM6'\n",
    "ser.baudrate = 19200\n",
    "ser.timeout = 1\n",
    "ser.write_timeout = 10\n",
    "ser.bytesize = 8\n",
    "ser.stopbits = 1\n",
    "ser.parity = serial.PARITY_NONE\n",
    "ser.xonxoff = 0\n",
    "\n",
    "time.sleep(1)\n",
    "ser.open()\n",
    "read = ser.readline()\n",
    "print(\"Message from the \" + ser.portstr + \" port is: \", read)\n",
    "ser.close()"
   ]
  },
  {
   "cell_type": "code",
   "execution_count": 10,
   "id": "77c1d6eb",
   "metadata": {},
   "outputs": [],
   "source": [
    "def Commands(port_number, command):\n",
    "    command = command.encode()\n",
    "    print(\"--------------------------------------\")\n",
    "    print(\"Trying to connect serial port: \", port_number)\n",
    "    connection = serial.Serial()\n",
    "    connection.port = port_number\n",
    "    connection.baudrate = 19200\n",
    "    connection.timeout = 1\n",
    "    connection.write_timeout = 50\n",
    "    connection.bytesize = 8\n",
    "    connection.stopbits = 1\n",
    "    connection.parity = serial.PARITY_NONE\n",
    "    connection.xonxoff = 0\n",
    "\n",
    "    print(\"Connected to the port: \", port_number)\n",
    "    # connection.flush()\n",
    "\n",
    "    print(\"Open the port: \", port_number)\n",
    "    connection.open()\n",
    "    print(\"Port opened successfully\")\n",
    "\n",
    "    connection.write(b\"\\r\\n\"+command+b\"\\r\\n\")\n",
    "    time.sleep(0.2)\n",
    "    output = connection.read_all().decode(\"UTF-8\")\n",
    "    time.sleep(0.1)\n",
    "    connection.close()\n",
    "    return output"
   ]
  },
  {
   "cell_type": "code",
   "execution_count": 11,
   "id": "a06a9b35",
   "metadata": {},
   "outputs": [
    {
     "name": "stdout",
     "output_type": "stream",
     "text": [
      "--------------------------------------\n",
      "Trying to connect serial port:  COM4\n",
      "Connected to the port:  COM4\n",
      "Open the port:  COM4\n",
      "Port opened successfully\n"
     ]
    },
    {
     "ename": "UnicodeDecodeError",
     "evalue": "'utf-8' codec can't decode byte 0xff in position 0: invalid start byte",
     "output_type": "error",
     "traceback": [
      "\u001b[1;31m---------------------------------------------------------------------------\u001b[0m",
      "\u001b[1;31mUnicodeDecodeError\u001b[0m                        Traceback (most recent call last)",
      "\u001b[1;32m~\\AppData\\Local\\Temp/ipykernel_14420/113276917.py\u001b[0m in \u001b[0;36m<module>\u001b[1;34m\u001b[0m\n\u001b[1;32m----> 1\u001b[1;33m \u001b[0mCommands\u001b[0m\u001b[1;33m(\u001b[0m\u001b[0mcomports\u001b[0m\u001b[1;33m[\u001b[0m\u001b[1;36m0\u001b[0m\u001b[1;33m]\u001b[0m\u001b[1;33m,\u001b[0m \u001b[1;34m\"*15,A4300,E1950,$69\"\u001b[0m\u001b[1;33m)\u001b[0m\u001b[1;33m\u001b[0m\u001b[1;33m\u001b[0m\u001b[0m\n\u001b[0m",
      "\u001b[1;32m~\\AppData\\Local\\Temp/ipykernel_14420/220512265.py\u001b[0m in \u001b[0;36mCommands\u001b[1;34m(port_number, command)\u001b[0m\n\u001b[0;32m     22\u001b[0m     \u001b[0mconnection\u001b[0m\u001b[1;33m.\u001b[0m\u001b[0mwrite\u001b[0m\u001b[1;33m(\u001b[0m\u001b[1;34mb\"\\r\\n\"\u001b[0m\u001b[1;33m+\u001b[0m\u001b[0mcommand\u001b[0m\u001b[1;33m+\u001b[0m\u001b[1;34mb\"\\r\\n\"\u001b[0m\u001b[1;33m)\u001b[0m\u001b[1;33m\u001b[0m\u001b[1;33m\u001b[0m\u001b[0m\n\u001b[0;32m     23\u001b[0m     \u001b[0mtime\u001b[0m\u001b[1;33m.\u001b[0m\u001b[0msleep\u001b[0m\u001b[1;33m(\u001b[0m\u001b[1;36m0.2\u001b[0m\u001b[1;33m)\u001b[0m\u001b[1;33m\u001b[0m\u001b[1;33m\u001b[0m\u001b[0m\n\u001b[1;32m---> 24\u001b[1;33m     \u001b[0moutput\u001b[0m \u001b[1;33m=\u001b[0m \u001b[0mconnection\u001b[0m\u001b[1;33m.\u001b[0m\u001b[0mread_all\u001b[0m\u001b[1;33m(\u001b[0m\u001b[1;33m)\u001b[0m\u001b[1;33m.\u001b[0m\u001b[0mdecode\u001b[0m\u001b[1;33m(\u001b[0m\u001b[1;34m\"UTF-8\"\u001b[0m\u001b[1;33m)\u001b[0m\u001b[1;33m\u001b[0m\u001b[1;33m\u001b[0m\u001b[0m\n\u001b[0m\u001b[0;32m     25\u001b[0m     \u001b[0mtime\u001b[0m\u001b[1;33m.\u001b[0m\u001b[0msleep\u001b[0m\u001b[1;33m(\u001b[0m\u001b[1;36m0.1\u001b[0m\u001b[1;33m)\u001b[0m\u001b[1;33m\u001b[0m\u001b[1;33m\u001b[0m\u001b[0m\n\u001b[0;32m     26\u001b[0m     \u001b[0mconnection\u001b[0m\u001b[1;33m.\u001b[0m\u001b[0mclose\u001b[0m\u001b[1;33m(\u001b[0m\u001b[1;33m)\u001b[0m\u001b[1;33m\u001b[0m\u001b[1;33m\u001b[0m\u001b[0m\n",
      "\u001b[1;31mUnicodeDecodeError\u001b[0m: 'utf-8' codec can't decode byte 0xff in position 0: invalid start byte"
     ]
    }
   ],
   "source": [
    "Commands(comports[0], \"*15,A4300,E1950,$69\")"
   ]
  },
  {
   "cell_type": "code",
   "execution_count": 13,
   "id": "b10a30e9",
   "metadata": {},
   "outputs": [
    {
     "name": "stdout",
     "output_type": "stream",
     "text": [
      "--------------------------------------\n",
      "Trying to connect serial port:  COM4\n",
      "Connected to the port:  COM4\n",
      "Open the port:  COM4\n",
      "Port opened successfully\n"
     ]
    },
    {
     "ename": "UnicodeDecodeError",
     "evalue": "'utf-8' codec can't decode byte 0xff in position 0: invalid start byte",
     "output_type": "error",
     "traceback": [
      "\u001b[1;31m---------------------------------------------------------------------------\u001b[0m",
      "\u001b[1;31mUnicodeDecodeError\u001b[0m                        Traceback (most recent call last)",
      "\u001b[1;32m~\\AppData\\Local\\Temp/ipykernel_14420/2814864546.py\u001b[0m in \u001b[0;36m<module>\u001b[1;34m\u001b[0m\n\u001b[1;32m----> 1\u001b[1;33m \u001b[0mCommands\u001b[0m\u001b[1;33m(\u001b[0m\u001b[0mcomports\u001b[0m\u001b[1;33m[\u001b[0m\u001b[1;36m0\u001b[0m\u001b[1;33m]\u001b[0m\u001b[1;33m,\u001b[0m \u001b[1;34m\"*15,VAEE,VEEE,$22\"\u001b[0m\u001b[1;33m)\u001b[0m\u001b[1;33m\u001b[0m\u001b[1;33m\u001b[0m\u001b[0m\n\u001b[0m",
      "\u001b[1;32m~\\AppData\\Local\\Temp/ipykernel_14420/220512265.py\u001b[0m in \u001b[0;36mCommands\u001b[1;34m(port_number, command)\u001b[0m\n\u001b[0;32m     22\u001b[0m     \u001b[0mconnection\u001b[0m\u001b[1;33m.\u001b[0m\u001b[0mwrite\u001b[0m\u001b[1;33m(\u001b[0m\u001b[1;34mb\"\\r\\n\"\u001b[0m\u001b[1;33m+\u001b[0m\u001b[0mcommand\u001b[0m\u001b[1;33m+\u001b[0m\u001b[1;34mb\"\\r\\n\"\u001b[0m\u001b[1;33m)\u001b[0m\u001b[1;33m\u001b[0m\u001b[1;33m\u001b[0m\u001b[0m\n\u001b[0;32m     23\u001b[0m     \u001b[0mtime\u001b[0m\u001b[1;33m.\u001b[0m\u001b[0msleep\u001b[0m\u001b[1;33m(\u001b[0m\u001b[1;36m0.2\u001b[0m\u001b[1;33m)\u001b[0m\u001b[1;33m\u001b[0m\u001b[1;33m\u001b[0m\u001b[0m\n\u001b[1;32m---> 24\u001b[1;33m     \u001b[0moutput\u001b[0m \u001b[1;33m=\u001b[0m \u001b[0mconnection\u001b[0m\u001b[1;33m.\u001b[0m\u001b[0mread_all\u001b[0m\u001b[1;33m(\u001b[0m\u001b[1;33m)\u001b[0m\u001b[1;33m.\u001b[0m\u001b[0mdecode\u001b[0m\u001b[1;33m(\u001b[0m\u001b[1;34m\"UTF-8\"\u001b[0m\u001b[1;33m)\u001b[0m\u001b[1;33m\u001b[0m\u001b[1;33m\u001b[0m\u001b[0m\n\u001b[0m\u001b[0;32m     25\u001b[0m     \u001b[0mtime\u001b[0m\u001b[1;33m.\u001b[0m\u001b[0msleep\u001b[0m\u001b[1;33m(\u001b[0m\u001b[1;36m0.1\u001b[0m\u001b[1;33m)\u001b[0m\u001b[1;33m\u001b[0m\u001b[1;33m\u001b[0m\u001b[0m\n\u001b[0;32m     26\u001b[0m     \u001b[0mconnection\u001b[0m\u001b[1;33m.\u001b[0m\u001b[0mclose\u001b[0m\u001b[1;33m(\u001b[0m\u001b[1;33m)\u001b[0m\u001b[1;33m\u001b[0m\u001b[1;33m\u001b[0m\u001b[0m\n",
      "\u001b[1;31mUnicodeDecodeError\u001b[0m: 'utf-8' codec can't decode byte 0xff in position 0: invalid start byte"
     ]
    }
   ],
   "source": [
    "Commands(comports[0], \"*15,VAEE,VEEE,$22\")"
   ]
  },
  {
   "cell_type": "code",
   "execution_count": 328,
   "id": "66cbdcb8",
   "metadata": {},
   "outputs": [
    {
     "name": "stdout",
     "output_type": "stream",
     "text": [
      "--------------------------------------\n",
      "Trying to connect serial port:  COM6\n",
      "Connected to the port:  COM6\n",
      "Open the port:  COM6\n",
      "Port opened successfully\n"
     ]
    },
    {
     "data": {
      "text/plain": [
       "'>1,A43DD,E1A4F,S0C,M00,$6B\\r\\n'"
      ]
     },
     "execution_count": 328,
     "metadata": {},
     "output_type": "execute_result"
    }
   ],
   "source": [
    "Commands(comports[0], \"*15,S10,$58\")"
   ]
  }
 ],
 "metadata": {
  "kernelspec": {
   "display_name": "Python 3 (ipykernel)",
   "language": "python",
   "name": "python3"
  },
  "language_info": {
   "codemirror_mode": {
    "name": "ipython",
    "version": 3
   },
   "file_extension": ".py",
   "mimetype": "text/x-python",
   "name": "python",
   "nbconvert_exporter": "python",
   "pygments_lexer": "ipython3",
   "version": "3.8.11"
  }
 },
 "nbformat": 4,
 "nbformat_minor": 5
}
